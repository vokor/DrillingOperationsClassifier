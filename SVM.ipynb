{
  "nbformat": 4,
  "nbformat_minor": 0,
  "metadata": {
    "colab": {
      "name": "SVM.ipynb",
      "provenance": []
    },
    "kernelspec": {
      "name": "python3",
      "display_name": "Python 3"
    },
    "accelerator": "GPU"
  },
  "cells": [
    {
      "cell_type": "code",
      "metadata": {
        "id": "QhwcwKcvHGEf"
      },
      "source": [
        "import numpy as np\n",
        "import pandas as pd\n",
        "from sklearn.model_selection import train_test_split\n",
        "from sklearn.model_selection import KFold\n",
        "from sklearn.datasets import make_classification\n",
        "from sklearn.svm import SVC, SVR\n",
        "from sklearn.metrics import classification_report"
      ],
      "execution_count": 11,
      "outputs": []
    },
    {
      "cell_type": "code",
      "metadata": {
        "id": "4DaWOuWD9MSI"
      },
      "source": [
        "EPS = 10e-6\n",
        "\n",
        "def is_null(value):\n",
        "  if abs(value) < EPS:\n",
        "    return True\n",
        "  else:\n",
        "    return False\n",
        "\n",
        "def get_class_num(fracture_posBlock, delta_posBlock, delta_rpmAv, delta_revVap, delta_flowInAv, delta_ndHole):\n",
        "  if (delta_rpmAv > 5) & (delta_revVap > 5) & (delta_flowInAv > 0.5):\n",
        "    if delta_ndHole < 0.1:\n",
        "      if is_null(delta_posBlock):\n",
        "        return 108\n",
        "      else:\n",
        "        return 107\n",
        "    else:\n",
        "      if is_null(delta_posBlock):\n",
        "        return 10\n",
        "      else:\n",
        "        if delta_posBlock < 0:\n",
        "          if (fracture_posBlock > 14) & (fracture_posBlock < 26):\n",
        "            return 113\n",
        "          if (fracture_posBlock > 8) & (fracture_posBlock < 14):\n",
        "            return 114\n",
        "        else:\n",
        "          if (fracture_posBlock < 1) & (delta_posBlock < 0.1):\n",
        "            return 124\n",
        "          if (fracture_posBlock > 14) & (fracture_posBlock < 25):\n",
        "            return 109\n",
        "  if (delta_flowInAv < 4) & (delta_ndHole > 1.1):\n",
        "    return 89\n",
        "  if (delta_rpmAv < 5) & (delta_revVap < 5) & (delta_flowInAv > 0.5):\n",
        "    if (delta_posBlock < 0) & (fracture_posBlock > 0) & (fracture_posBlock < 8):\n",
        "      return 8\n",
        "    if (delta_posBlock > 0) & (fracture_posBlock < 8):\n",
        "      return 110\n",
        "    if (delta_posBlock > 0.1) & (fracture_posBlock < 1):\n",
        "      return 112\n",
        "    if is_null(delta_posBlock):\n",
        "      return 128\n",
        "  if (delta_posBlock < 0):\n",
        "    return 123\n",
        "  if (delta_rpmAv < 5) & (delta_revVap < 5) & is_null(delta_posBlock):\n",
        "    return 122\n",
        "  if delta_posBlock > 0:\n",
        "    if (fracture_posBlock > 14) & (fracture_posBlock < 26):\n",
        "      return 115\n",
        "    if (fracture_posBlock > 8) & (fracture_posBlock < 14):\n",
        "      return 116\n",
        "    if (fracture_posBlock > 0) & (fracture_posBlock < 8):\n",
        "      return 9\n",
        "    if (fracture_posBlock > 14) & (fracture_posBlock < 26):\n",
        "      return 117\n",
        "  return -1"
      ],
      "execution_count": 12,
      "outputs": []
    },
    {
      "cell_type": "code",
      "metadata": {
        "id": "ojnNAJktKP6W"
      },
      "source": [
        "fracture_posBlock = np.array([np.random.normal(15, 15, 50000)]).T\n",
        "delta_posBlock = np.array([np.random.normal(0, 2, 50000)]).T\n",
        "delta_rpmAv = np.array([np.random.normal(5, 5, 50000)]).T\n",
        "delta_revVap = np.array([np.random.normal(5, 5, 50000)]).T\n",
        "delta_flowInAv = np.array([np.random.normal(0.5, 7, 50000)]).T\n",
        "delta_ndHole = np.array([np.random.normal(1, 3, 50000)]).T"
      ],
      "execution_count": 13,
      "outputs": []
    },
    {
      "cell_type": "code",
      "metadata": {
        "id": "zkSJS3a25zTT"
      },
      "source": [
        "data = np.hstack((fracture_posBlock,delta_posBlock,delta_rpmAv,delta_revVap,delta_flowInAv,delta_ndHole))\n",
        "X = pd.DataFrame(data, columns=['fracture_posBlock', 'delta_posBlock', 'delta_rpmAv', 'delta_revVap', 'delta_flowInAv', 'delta_ndHole'])\n",
        "y = np.array([], dtype=int)"
      ],
      "execution_count": 14,
      "outputs": []
    },
    {
      "cell_type": "code",
      "metadata": {
        "id": "Zt5oYE_q56R2"
      },
      "source": [
        "for args in X.values:\n",
        "  y = np.append(y, [get_class_num(args[0],args[1],args[2],args[3],args[4],args[5])])"
      ],
      "execution_count": 15,
      "outputs": []
    },
    {
      "cell_type": "code",
      "metadata": {
        "id": "UtX-akCX9taM"
      },
      "source": [
        "X = X[y != -1]\n",
        "y = y[y != -1]"
      ],
      "execution_count": 16,
      "outputs": []
    },
    {
      "cell_type": "code",
      "metadata": {
        "colab": {
          "base_uri": "https://localhost:8080/"
        },
        "id": "mUREV2LA715o",
        "outputId": "a512a915-0ab2-45e2-b612-6199e0268b49"
      },
      "source": [
        "unique, counts = np.unique(y, return_counts=True)\n",
        "np.asarray((unique, counts)).T"
      ],
      "execution_count": 17,
      "outputs": [
        {
          "output_type": "execute_result",
          "data": {
            "text/plain": [
              "array([[    8,   401],\n",
              "       [    9,  2057],\n",
              "       [   89, 16070],\n",
              "       [  107,  2510],\n",
              "       [  109,   533],\n",
              "       [  110,   784],\n",
              "       [  113,   540],\n",
              "       [  114,   285],\n",
              "       [  115,  4091],\n",
              "       [  116,  2374],\n",
              "       [  123, 14662],\n",
              "       [  124,    21]])"
            ]
          },
          "metadata": {
            "tags": []
          },
          "execution_count": 17
        }
      ]
    },
    {
      "cell_type": "code",
      "metadata": {
        "id": "QLOt5TY3S3Tw"
      },
      "source": [
        "X_train, X_test, Y_train, Y_test = train_test_split(X, y, test_size=0.2,stratify=y)"
      ],
      "execution_count": 18,
      "outputs": []
    },
    {
      "cell_type": "code",
      "metadata": {
        "colab": {
          "base_uri": "https://localhost:8080/"
        },
        "id": "lh-4834zVZPv",
        "outputId": "a0513c78-7916-497d-e750-3c092ce3b33e"
      },
      "source": [
        "model = SVC(kernel='linear', verbose=1)\n",
        "_ = model.fit(X_train, Y_train)"
      ],
      "execution_count": 19,
      "outputs": [
        {
          "output_type": "stream",
          "text": [
            "[LibSVM]"
          ],
          "name": "stdout"
        }
      ]
    },
    {
      "cell_type": "code",
      "metadata": {
        "colab": {
          "base_uri": "https://localhost:8080/"
        },
        "id": "rnwX3DGaZnKv",
        "outputId": "27e49ca4-9d1a-43c6-91d6-066a5ec54636"
      },
      "source": [
        "model.score(X_test, Y_test)"
      ],
      "execution_count": 20,
      "outputs": [
        {
          "output_type": "execute_result",
          "data": {
            "text/plain": [
              "0.7981051206857659"
            ]
          },
          "metadata": {
            "tags": []
          },
          "execution_count": 20
        }
      ]
    }
  ]
}